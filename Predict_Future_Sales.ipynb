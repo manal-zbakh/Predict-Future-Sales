{
  "cells": [
    {
      "cell_type": "markdown",
      "metadata": {
        "id": "view-in-github",
        "colab_type": "text"
      },
      "source": [
        "<a href=\"https://colab.research.google.com/github/manal-zbakh/Predict-Future-Sales/blob/main/Predict_Future_Sales.ipynb\" target=\"_parent\"><img src=\"https://colab.research.google.com/assets/colab-badge.svg\" alt=\"Open In Colab\"/></a>"
      ]
    },
    {
      "cell_type": "code",
      "execution_count": null,
      "metadata": {
        "id": "W021I6S6jMcB"
      },
      "outputs": [],
      "source": [
        "! pip install -q kaggle"
      ]
    },
    {
      "cell_type": "code",
      "execution_count": null,
      "metadata": {
        "colab": {
          "base_uri": "https://localhost:8080/",
          "height": 91,
          "resources": {
            "http://localhost:8080/nbextensions/google.colab/files.js": {
              "data": "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",
              "headers": [
                [
                  "content-type",
                  "application/javascript"
                ]
              ],
              "ok": true,
              "status": 200,
              "status_text": ""
            }
          }
        },
        "id": "fHZ4BR8PjODB",
        "outputId": "b8ea1b31-ddc1-439d-aa71-8146fb6c9872"
      },
      "outputs": [
        {
          "output_type": "display_data",
          "data": {
            "text/plain": [
              "<IPython.core.display.HTML object>"
            ],
            "text/html": [
              "\n",
              "     <input type=\"file\" id=\"files-2120a8b8-100b-4d6e-ace5-b82c2b89ec82\" name=\"files[]\" multiple disabled\n",
              "        style=\"border:none\" />\n",
              "     <output id=\"result-2120a8b8-100b-4d6e-ace5-b82c2b89ec82\">\n",
              "      Upload widget is only available when the cell has been executed in the\n",
              "      current browser session. Please rerun this cell to enable.\n",
              "      </output>\n",
              "      <script src=\"/nbextensions/google.colab/files.js\"></script> "
            ]
          },
          "metadata": {}
        },
        {
          "output_type": "stream",
          "name": "stdout",
          "text": [
            "Saving kaggle.json to kaggle (2).json\n"
          ]
        },
        {
          "output_type": "execute_result",
          "data": {
            "text/plain": [
              "{'kaggle.json': b'{\"username\":\"mouadbarrou\",\"key\":\"9ad616a4d1a2548360b3eb0e26ef5a80\"}'}"
            ]
          },
          "metadata": {},
          "execution_count": 80
        }
      ],
      "source": [
        "from google.colab import files\n",
        "files.upload()"
      ]
    },
    {
      "cell_type": "code",
      "execution_count": null,
      "metadata": {
        "colab": {
          "base_uri": "https://localhost:8080/"
        },
        "id": "a9ORor7UjTua",
        "outputId": "88ac5001-8587-4693-d61b-310174b883f7"
      },
      "outputs": [
        {
          "output_type": "stream",
          "name": "stdout",
          "text": [
            "Drive already mounted at /content/drive; to attempt to forcibly remount, call drive.mount(\"/content/drive\", force_remount=True).\n"
          ]
        }
      ],
      "source": [
        "from google.colab import drive\n",
        "drive.mount('/content/drive')"
      ]
    },
    {
      "cell_type": "code",
      "execution_count": null,
      "metadata": {
        "id": "uZo1PHBHjXFe",
        "colab": {
          "base_uri": "https://localhost:8080/"
        },
        "outputId": "84aceb0c-607e-48ab-86e1-ec3d015be6c3"
      },
      "outputs": [
        {
          "output_type": "stream",
          "name": "stdout",
          "text": [
            "mkdir: cannot create directory ‘/root/.kaggle’: File exists\n"
          ]
        }
      ],
      "source": [
        "! mkdir ~/.kaggle"
      ]
    },
    {
      "cell_type": "code",
      "execution_count": null,
      "metadata": {
        "id": "Sv-yXEkMjgbu"
      },
      "outputs": [],
      "source": [
        "! cp kaggle.json ~/.kaggle/"
      ]
    },
    {
      "cell_type": "code",
      "execution_count": null,
      "metadata": {
        "id": "3uBgKv5Jjkum"
      },
      "outputs": [],
      "source": [
        "! chmod 600 ~/.kaggle/kaggle.json"
      ]
    },
    {
      "cell_type": "code",
      "execution_count": null,
      "metadata": {
        "colab": {
          "base_uri": "https://localhost:8080/"
        },
        "id": "CK7YEm8AjoiQ",
        "outputId": "d7d99392-751e-4bfc-cae2-d25fb4549441"
      },
      "outputs": [
        {
          "output_type": "stream",
          "name": "stdout",
          "text": [
            "ref                                                                   title                                             size  lastUpdated          downloadCount  voteCount  usabilityRating  \n",
            "--------------------------------------------------------------------  -----------------------------------------------  -----  -------------------  -------------  ---------  ---------------  \n",
            "muratkokludataset/date-fruit-datasets                                 Date Fruit Datasets                              408KB  2022-04-03 09:25:39           9412       1273  0.9375           \n",
            "victorsoeiro/netflix-tv-shows-and-movies                              Netflix TV Shows and Movies                        2MB  2022-05-15 00:01:23           1620         61  1.0              \n",
            "mdmahmudulhasansuzan/students-adaptability-level-in-online-education  Students Adaptability Level in Online Education    6KB  2022-04-16 04:46:28           6260        160  1.0              \n",
            "muratkokludataset/acoustic-extinguisher-fire-dataset                  Acoustic Extinguisher Fire Dataset               621KB  2022-04-02 22:59:36           1514       1104  0.9375           \n",
            "muratkokludataset/rice-image-dataset                                  Rice Image Dataset                               219MB  2022-04-03 02:12:00           1836       1053  0.875            \n",
            "muratkokludataset/raisin-dataset                                      Raisin Dataset                                   112KB  2022-04-03 00:23:16            748        938  0.9375           \n",
            "muratkokludataset/dry-bean-dataset                                    Dry Bean Dataset                                   5MB  2022-04-02 23:19:30            617        934  0.9375           \n",
            "paradisejoy/top-hits-spotify-from-20002019                            Top Hits Spotify from 2000-2019                   94KB  2022-04-26 17:30:03           2113         52  1.0              \n",
            "muratkokludataset/pistachio-dataset                                   Pistachio Dataset                                  2MB  2022-04-03 08:38:21            664        956  0.9375           \n",
            "muratkokludataset/rice-msc-dataset                                    Rice MSC Dataset                                 102MB  2022-04-03 01:33:52            293        924  0.9375           \n",
            "muratkokludataset/grapevine-leaves-image-dataset                      Grapevine Leaves Image Dataset                   109MB  2022-04-03 09:00:54            242        963  0.875            \n",
            "muratkokludataset/rice-dataset-commeo-and-osmancik                    Rice Dataset Commeo and Osmancik                 524KB  2022-04-03 00:40:03            155        912  0.875            \n",
            "muratkokludataset/durum-wheat-dataset                                 Durum Wheat Dataset                              983MB  2022-04-03 00:02:29            120        935  0.875            \n",
            "mysarahmadbhat/airline-passenger-satisfaction                         Airline Passenger Satisfaction                     2MB  2022-05-19 11:46:02            638         20  1.0              \n",
            "muratkokludataset/pistachio-image-dataset                             Pistachio Image Dataset                           27MB  2022-03-28 18:01:27            628       1004  0.9375           \n",
            "muratkokludataset/pumpkin-seeds-dataset                               Pumpkin Seeds Dataset                            393KB  2022-03-28 18:28:16            749        932  0.9375           \n",
            "ujjwalchowdhury/energy-efficiency-data-set                            Energy Efficiency Data Set                         6KB  2022-05-12 13:51:03            680         32  0.9705882        \n",
            "surajjha101/stores-area-and-sales-data                                Supermarket store branches sales analysis         10KB  2022-04-29 11:10:16           1949         74  1.0              \n",
            "rinichristy/covid19-coronavirus-pandemic                              COVID-19 Coronavirus Pandemic                      9KB  2022-04-05 08:43:16           4811        108  1.0              \n",
            "jjdaguirre/forbes-billionaires-2022                                   Forbes billionaires 2022                          56KB  2022-04-30 18:48:22            926         27  1.0              \n"
          ]
        }
      ],
      "source": [
        "! kaggle datasets list"
      ]
    },
    {
      "cell_type": "code",
      "execution_count": null,
      "metadata": {
        "colab": {
          "base_uri": "https://localhost:8080/"
        },
        "id": "MLBXAfLyjsiK",
        "outputId": "8d321f9a-b177-4b2d-934d-6bda35db3787"
      },
      "outputs": [
        {
          "output_type": "stream",
          "name": "stdout",
          "text": [
            "competitive-data-science-predict-future-sales.zip: Skipping, found more recently modified local copy (use --force to force download)\n"
          ]
        }
      ],
      "source": [
        "! kaggle competitions download -c competitive-data-science-predict-future-sales"
      ]
    },
    {
      "cell_type": "code",
      "execution_count": null,
      "metadata": {
        "colab": {
          "base_uri": "https://localhost:8080/"
        },
        "id": "jR1Otd6ij3kt",
        "outputId": "d01df916-958f-46b4-9962-194fed4342cb"
      },
      "outputs": [
        {
          "output_type": "stream",
          "name": "stdout",
          "text": [
            "Archive:  competitive-data-science-predict-future-sales.zip\n",
            "replace item_categories.csv? [y]es, [n]o, [A]ll, [N]one, [r]ename: "
          ]
        }
      ],
      "source": [
        "! unzip competitive-data-science-predict-future-sales"
      ]
    },
    {
      "cell_type": "code",
      "execution_count": null,
      "metadata": {
        "id": "_rAGjAMwilUu"
      },
      "outputs": [],
      "source": [
        "# Import Libraries\n",
        "# Pandas est une bibliothèque écrite pour le langage de programmation Python permettant la manipulation et l'analyse des données. Elle propose en particulier des structures de données et des opérations de manipulation de tableaux numériques et de séries temporelles. Pandas est un logiciel libre sous licence BSD.\n",
        "import pandas as pd\n",
        "#Matplotlib est une bibliothèque du langage de programmation Python destinée à tracer et visualiser des données sous formes de graphiques. Elle peut être combinée avec les bibliothèques python de calcul scientifique NumPy et SciPy.\n",
        "import matplotlib.pyplot as plt\n",
        "#NumPy est une bibliothèque pour langage de programmation Python, destinée à manipuler des matrices ou tableaux multidimensionnels ainsi que des fonctions mathématiques opérant sur ces tableaux.\n",
        "import numpy as np\n",
        "#Seaborn est une bibliothèque Python de visualisation de données basée sur matplotlib. Il fournit une interface de haut niveau pour dessiner des graphiques statistiques attrayants et informatifs.\n",
        "import seaborn as sns\n",
        "#Pour afficher toutes les colonnes de Pandas DataFrame dans Jupyter Notebook\n",
        "pd.options.display.max_columns = 1000\n",
        "import warnings\n",
        "warnings.filterwarnings(action='ignore',category=DeprecationWarning)\n",
        "warnings.filterwarnings(action='ignore',category=FutureWarning)"
      ]
    },
    {
      "cell_type": "markdown",
      "source": [
        "# **1. Descriptive and exploratory data analysis**"
      ],
      "metadata": {
        "id": "x9Ni8ygt5--T"
      }
    },
    {
      "cell_type": "code",
      "execution_count": null,
      "metadata": {
        "id": "QS4kchs3i0hm"
      },
      "outputs": [],
      "source": [
        "# reading data\n",
        "#item_categories:supplemental information about the items categories.\n",
        "item_categories = pd.read_csv(\"/content/item_categories.csv\", sep=\",\")\n",
        "#items: supplemental information about the items/products.\n",
        "items = pd.read_csv(\"/content/items.csv\", sep=\",\")\n",
        "#shops: supplemental information about the shops.\n",
        "shops = pd.read_csv(\"/content/shops.csv\", sep=\",\")\n",
        "#test: the test set.\n",
        "test = pd.read_csv(\"/content/test.csv\", sep=\",\")\n",
        "#sales_train:the training set. \n",
        "sales_train = pd.read_csv(\"/content/sales_train.csv\", sep=\",\")"
      ]
    },
    {
      "cell_type": "code",
      "source": [
        "def data(df):\n",
        "    print(\"----------TOP 5 RECORDS--------\")\n",
        "    print(df.head(5))\n",
        "    print(\"----------INFO-----------------\")\n",
        "    print(df.info())\n",
        "    print(\"----------Describe-------------\")\n",
        "    print(df.describe())\n",
        "    print(\"----------Data Types-----------\")\n",
        "    print(df.dtypes)\n",
        "    print(\"-------Missing Values----------\")\n",
        "    print(df.isnull().sum())\n",
        "    print(\"-------NULL values-------------\")\n",
        "    print(df.isna().sum())\n",
        "    print(\"-----Shape Of Data-------------\")\n",
        "    print(df.shape)\n",
        "    print(\"----------Columns--------------\")\n",
        "    print(df.columns)"
      ],
      "metadata": {
        "id": "YR8_WUrH1b_J"
      },
      "execution_count": null,
      "outputs": []
    },
    {
      "cell_type": "code",
      "source": [
        "print(\"=============================sales_train=============================\")\n",
        "data(sales_train)"
      ],
      "metadata": {
        "colab": {
          "base_uri": "https://localhost:8080/"
        },
        "id": "U-UiwJJl1mXm",
        "outputId": "ef3656d1-2e60-425a-f8ca-0e22be4e8b72"
      },
      "execution_count": null,
      "outputs": [
        {
          "output_type": "stream",
          "name": "stdout",
          "text": [
            "=============================sales_train=============================\n",
            "----------TOP 5 RECORDS--------\n",
            "         date  date_block_num  shop_id  item_id  item_price  item_cnt_day\n",
            "0  02.01.2013               0       59    22154      999.00           1.0\n",
            "1  03.01.2013               0       25     2552      899.00           1.0\n",
            "2  05.01.2013               0       25     2552      899.00          -1.0\n",
            "3  06.01.2013               0       25     2554     1709.05           1.0\n",
            "4  15.01.2013               0       25     2555     1099.00           1.0\n",
            "----------INFO-----------------\n",
            "<class 'pandas.core.frame.DataFrame'>\n",
            "RangeIndex: 2935849 entries, 0 to 2935848\n",
            "Data columns (total 6 columns):\n",
            " #   Column          Dtype  \n",
            "---  ------          -----  \n",
            " 0   date            object \n",
            " 1   date_block_num  int64  \n",
            " 2   shop_id         int64  \n",
            " 3   item_id         int64  \n",
            " 4   item_price      float64\n",
            " 5   item_cnt_day    float64\n",
            "dtypes: float64(2), int64(3), object(1)\n",
            "memory usage: 134.4+ MB\n",
            "None\n",
            "----------Describe-------------\n",
            "       date_block_num       shop_id       item_id    item_price  item_cnt_day\n",
            "count    2.935849e+06  2.935849e+06  2.935849e+06  2.935849e+06  2.935849e+06\n",
            "mean     1.456991e+01  3.300173e+01  1.019723e+04  8.908532e+02  1.242641e+00\n",
            "std      9.422988e+00  1.622697e+01  6.324297e+03  1.729800e+03  2.618834e+00\n",
            "min      0.000000e+00  0.000000e+00  0.000000e+00 -1.000000e+00 -2.200000e+01\n",
            "25%      7.000000e+00  2.200000e+01  4.476000e+03  2.490000e+02  1.000000e+00\n",
            "50%      1.400000e+01  3.100000e+01  9.343000e+03  3.990000e+02  1.000000e+00\n",
            "75%      2.300000e+01  4.700000e+01  1.568400e+04  9.990000e+02  1.000000e+00\n",
            "max      3.300000e+01  5.900000e+01  2.216900e+04  3.079800e+05  2.169000e+03\n",
            "----------Data Types-----------\n",
            "date               object\n",
            "date_block_num      int64\n",
            "shop_id             int64\n",
            "item_id             int64\n",
            "item_price        float64\n",
            "item_cnt_day      float64\n",
            "dtype: object\n",
            "-------Missing Values----------\n",
            "date              0\n",
            "date_block_num    0\n",
            "shop_id           0\n",
            "item_id           0\n",
            "item_price        0\n",
            "item_cnt_day      0\n",
            "dtype: int64\n",
            "-------NULL values-------------\n",
            "date              0\n",
            "date_block_num    0\n",
            "shop_id           0\n",
            "item_id           0\n",
            "item_price        0\n",
            "item_cnt_day      0\n",
            "dtype: int64\n",
            "-----Shape Of Data-------------\n",
            "(2935849, 6)\n",
            "----------Columns--------------\n",
            "Index(['date', 'date_block_num', 'shop_id', 'item_id', 'item_price',\n",
            "       'item_cnt_day'],\n",
            "      dtype='object')\n"
          ]
        }
      ]
    },
    {
      "cell_type": "markdown",
      "source": [
        "- date_block_num : a consecutive month number, used for convenience. January 2013 is 0, February 2013 is 1,..., October 2015 is 33\n",
        "- shop_id : unique identifier of a shop.\n",
        "- item_id : unique identifier of a product.\n",
        "- item_price : current price of an item.\n",
        "- item_cnt_day : number of products sold. \n"
      ],
      "metadata": {
        "id": "bABCjLPy2pZj"
      }
    },
    {
      "cell_type": "code",
      "source": [
        "print(\"=============================Test=============================\")\n",
        "data(test)"
      ],
      "metadata": {
        "colab": {
          "base_uri": "https://localhost:8080/"
        },
        "id": "WQZ6cR0a2ZPm",
        "outputId": "7b8ab435-fde6-4771-ebe9-875881f75a74"
      },
      "execution_count": null,
      "outputs": [
        {
          "output_type": "stream",
          "name": "stdout",
          "text": [
            "=============================Test=============================\n",
            "----------TOP 5 RECORDS--------\n",
            "   ID  shop_id  item_id\n",
            "0   0        5     5037\n",
            "1   1        5     5320\n",
            "2   2        5     5233\n",
            "3   3        5     5232\n",
            "4   4        5     5268\n",
            "----------INFO-----------------\n",
            "<class 'pandas.core.frame.DataFrame'>\n",
            "RangeIndex: 214200 entries, 0 to 214199\n",
            "Data columns (total 3 columns):\n",
            " #   Column   Non-Null Count   Dtype\n",
            "---  ------   --------------   -----\n",
            " 0   ID       214200 non-null  int64\n",
            " 1   shop_id  214200 non-null  int64\n",
            " 2   item_id  214200 non-null  int64\n",
            "dtypes: int64(3)\n",
            "memory usage: 4.9 MB\n",
            "None\n",
            "----------Describe-------------\n",
            "                  ID        shop_id        item_id\n",
            "count  214200.000000  214200.000000  214200.000000\n",
            "mean   107099.500000      31.642857   11019.398627\n",
            "std     61834.358168      17.561933    6252.644590\n",
            "min         0.000000       2.000000      30.000000\n",
            "25%     53549.750000      16.000000    5381.500000\n",
            "50%    107099.500000      34.500000   11203.000000\n",
            "75%    160649.250000      47.000000   16071.500000\n",
            "max    214199.000000      59.000000   22167.000000\n",
            "----------Data Types-----------\n",
            "ID         int64\n",
            "shop_id    int64\n",
            "item_id    int64\n",
            "dtype: object\n",
            "-------Missing Values----------\n",
            "ID         0\n",
            "shop_id    0\n",
            "item_id    0\n",
            "dtype: int64\n",
            "-------NULL values-------------\n",
            "ID         0\n",
            "shop_id    0\n",
            "item_id    0\n",
            "dtype: int64\n",
            "-----Shape Of Data-------------\n",
            "(214200, 3)\n",
            "----------Columns--------------\n",
            "Index(['ID', 'shop_id', 'item_id'], dtype='object')\n"
          ]
        }
      ]
    },
    {
      "cell_type": "code",
      "source": [
        "print(\"=============================Item Categories=============================\")\n",
        "data(item_categories)"
      ],
      "metadata": {
        "colab": {
          "base_uri": "https://localhost:8080/"
        },
        "id": "A30ogPIt2b5U",
        "outputId": "019aa2bf-e6e1-4ff0-ee74-a5443d2d78f6"
      },
      "execution_count": null,
      "outputs": [
        {
          "output_type": "stream",
          "name": "stdout",
          "text": [
            "=============================Item Categories=============================\n",
            "----------TOP 5 RECORDS--------\n",
            "        item_category_name  item_category_id\n",
            "0  PC - Гарнитуры/Наушники                 0\n",
            "1         Аксессуары - PS2                 1\n",
            "2         Аксессуары - PS3                 2\n",
            "3         Аксессуары - PS4                 3\n",
            "4         Аксессуары - PSP                 4\n",
            "----------INFO-----------------\n",
            "<class 'pandas.core.frame.DataFrame'>\n",
            "RangeIndex: 84 entries, 0 to 83\n",
            "Data columns (total 2 columns):\n",
            " #   Column              Non-Null Count  Dtype \n",
            "---  ------              --------------  ----- \n",
            " 0   item_category_name  84 non-null     object\n",
            " 1   item_category_id    84 non-null     int64 \n",
            "dtypes: int64(1), object(1)\n",
            "memory usage: 1.4+ KB\n",
            "None\n",
            "----------Describe-------------\n",
            "       item_category_id\n",
            "count         84.000000\n",
            "mean          41.500000\n",
            "std           24.392622\n",
            "min            0.000000\n",
            "25%           20.750000\n",
            "50%           41.500000\n",
            "75%           62.250000\n",
            "max           83.000000\n",
            "----------Data Types-----------\n",
            "item_category_name    object\n",
            "item_category_id       int64\n",
            "dtype: object\n",
            "-------Missing Values----------\n",
            "item_category_name    0\n",
            "item_category_id      0\n",
            "dtype: int64\n",
            "-------NULL values-------------\n",
            "item_category_name    0\n",
            "item_category_id      0\n",
            "dtype: int64\n",
            "-----Shape Of Data-------------\n",
            "(84, 2)\n",
            "----------Columns--------------\n",
            "Index(['item_category_name', 'item_category_id'], dtype='object')\n"
          ]
        }
      ]
    },
    {
      "cell_type": "markdown",
      "source": [
        "- item_category_id : unique identifier of item category.\n",
        "- item_category_name : name of item category."
      ],
      "metadata": {
        "id": "pw6nKUtK28gG"
      }
    },
    {
      "cell_type": "code",
      "source": [
        "print(\"=============================Items=============================\")\n",
        "data(items)"
      ],
      "metadata": {
        "colab": {
          "base_uri": "https://localhost:8080/"
        },
        "id": "FGStXOqJ2e1m",
        "outputId": "ac572248-5b4a-41c6-8563-20d4b2842b19"
      },
      "execution_count": null,
      "outputs": [
        {
          "output_type": "stream",
          "name": "stdout",
          "text": [
            "=============================Items=============================\n",
            "----------TOP 5 RECORDS--------\n",
            "                                           item_name  item_id  \\\n",
            "0          ! ВО ВЛАСТИ НАВАЖДЕНИЯ (ПЛАСТ.)         D        0   \n",
            "1  !ABBYY FineReader 12 Professional Edition Full...        1   \n",
            "2      ***В ЛУЧАХ СЛАВЫ   (UNV)                    D        2   \n",
            "3    ***ГОЛУБАЯ ВОЛНА  (Univ)                      D        3   \n",
            "4        ***КОРОБКА (СТЕКЛО)                       D        4   \n",
            "\n",
            "   item_category_id  \n",
            "0                40  \n",
            "1                76  \n",
            "2                40  \n",
            "3                40  \n",
            "4                40  \n",
            "----------INFO-----------------\n",
            "<class 'pandas.core.frame.DataFrame'>\n",
            "RangeIndex: 22170 entries, 0 to 22169\n",
            "Data columns (total 3 columns):\n",
            " #   Column            Non-Null Count  Dtype \n",
            "---  ------            --------------  ----- \n",
            " 0   item_name         22170 non-null  object\n",
            " 1   item_id           22170 non-null  int64 \n",
            " 2   item_category_id  22170 non-null  int64 \n",
            "dtypes: int64(2), object(1)\n",
            "memory usage: 519.7+ KB\n",
            "None\n",
            "----------Describe-------------\n",
            "           item_id  item_category_id\n",
            "count  22170.00000      22170.000000\n",
            "mean   11084.50000         46.290753\n",
            "std     6400.07207         15.941486\n",
            "min        0.00000          0.000000\n",
            "25%     5542.25000         37.000000\n",
            "50%    11084.50000         40.000000\n",
            "75%    16626.75000         58.000000\n",
            "max    22169.00000         83.000000\n",
            "----------Data Types-----------\n",
            "item_name           object\n",
            "item_id              int64\n",
            "item_category_id     int64\n",
            "dtype: object\n",
            "-------Missing Values----------\n",
            "item_name           0\n",
            "item_id             0\n",
            "item_category_id    0\n",
            "dtype: int64\n",
            "-------NULL values-------------\n",
            "item_name           0\n",
            "item_id             0\n",
            "item_category_id    0\n",
            "dtype: int64\n",
            "-----Shape Of Data-------------\n",
            "(22170, 3)\n",
            "----------Columns--------------\n",
            "Index(['item_name', 'item_id', 'item_category_id'], dtype='object')\n"
          ]
        }
      ]
    },
    {
      "cell_type": "markdown",
      "source": [
        "- item_name : name of item.\n",
        "- item_id : unique identifier of a product."
      ],
      "metadata": {
        "id": "rqrISGuf3MV9"
      }
    },
    {
      "cell_type": "code",
      "source": [
        "print(\"=============================Shops=============================\")\n",
        "data(shops)"
      ],
      "metadata": {
        "colab": {
          "base_uri": "https://localhost:8080/"
        },
        "id": "9iHY5TAl2hiQ",
        "outputId": "4a90fa6d-d4ba-45fc-cb65-471a47460c0a"
      },
      "execution_count": null,
      "outputs": [
        {
          "output_type": "stream",
          "name": "stdout",
          "text": [
            "=============================Shops=============================\n",
            "----------TOP 5 RECORDS--------\n",
            "                        shop_name  shop_id\n",
            "0   !Якутск Орджоникидзе, 56 фран        0\n",
            "1   !Якутск ТЦ \"Центральный\" фран        1\n",
            "2                Адыгея ТЦ \"Мега\"        2\n",
            "3  Балашиха ТРК \"Октябрь-Киномир\"        3\n",
            "4        Волжский ТЦ \"Волга Молл\"        4\n",
            "----------INFO-----------------\n",
            "<class 'pandas.core.frame.DataFrame'>\n",
            "RangeIndex: 60 entries, 0 to 59\n",
            "Data columns (total 2 columns):\n",
            " #   Column     Non-Null Count  Dtype \n",
            "---  ------     --------------  ----- \n",
            " 0   shop_name  60 non-null     object\n",
            " 1   shop_id    60 non-null     int64 \n",
            "dtypes: int64(1), object(1)\n",
            "memory usage: 1.1+ KB\n",
            "None\n",
            "----------Describe-------------\n",
            "         shop_id\n",
            "count  60.000000\n",
            "mean   29.500000\n",
            "std    17.464249\n",
            "min     0.000000\n",
            "25%    14.750000\n",
            "50%    29.500000\n",
            "75%    44.250000\n",
            "max    59.000000\n",
            "----------Data Types-----------\n",
            "shop_name    object\n",
            "shop_id       int64\n",
            "dtype: object\n",
            "-------Missing Values----------\n",
            "shop_name    0\n",
            "shop_id      0\n",
            "dtype: int64\n",
            "-------NULL values-------------\n",
            "shop_name    0\n",
            "shop_id      0\n",
            "dtype: int64\n",
            "-----Shape Of Data-------------\n",
            "(60, 2)\n",
            "----------Columns--------------\n",
            "Index(['shop_name', 'shop_id'], dtype='object')\n"
          ]
        }
      ]
    },
    {
      "cell_type": "markdown",
      "source": [
        "- shop_name : name of shop.\n",
        "- shop_id : unique identifier of a shop."
      ],
      "metadata": {
        "id": "0gzWqbmb3T27"
      }
    },
    {
      "cell_type": "code",
      "execution_count": null,
      "metadata": {
        "colab": {
          "base_uri": "https://localhost:8080/"
        },
        "id": "O5eRaVtlp2r7",
        "outputId": "d7600a6d-ef81-4434-bf9a-12fe891db926"
      },
      "outputs": [
        {
          "output_type": "execute_result",
          "data": {
            "text/plain": [
              "array([ 1.000e+00, -1.000e+00,  3.000e+00,  2.000e+00,  4.000e+00,\n",
              "        5.000e+00,  1.300e+01,  7.000e+00,  6.000e+00,  8.000e+00,\n",
              "        1.000e+01,  1.100e+01,  3.000e+01,  2.200e+01,  1.400e+01,\n",
              "        1.500e+01,  9.000e+00,  1.200e+01,  1.700e+01,  1.900e+01,\n",
              "        2.000e+01, -5.000e+00, -6.000e+00, -3.000e+00, -2.000e+00,\n",
              "        1.600e+01,  6.400e+01,  1.800e+01,  2.900e+01,  2.600e+01,\n",
              "        3.900e+01,  2.100e+01,  2.700e+01,  5.300e+01,  2.500e+01,\n",
              "        2.300e+01,  2.400e+01,  4.000e+01,  2.800e+01,  3.100e+01,\n",
              "        3.600e+01, -4.000e+00,  3.200e+01,  3.500e+01,  4.100e+01,\n",
              "        8.800e+01,  4.400e+01,  5.200e+01,  5.600e+01,  3.800e+01,\n",
              "        3.400e+01,  5.700e+01,  6.900e+01,  3.700e+01,  4.700e+01,\n",
              "        5.000e+01,  4.800e+01,  3.300e+01,  6.100e+01,  8.000e+01,\n",
              "        4.200e+01,  8.200e+01,  2.000e+02,  1.000e+02,  7.600e+01,\n",
              "        7.700e+01,  1.070e+02,  4.600e+01,  4.900e+01,  7.000e+01,\n",
              "        5.500e+01,  6.000e+01,  4.500e+01,  7.100e+01,  6.500e+01,\n",
              "        1.500e+02,  8.500e+01,  8.900e+01,  4.300e+01,  5.800e+01,\n",
              "        2.170e+02,  1.040e+02,  8.400e+01,  1.680e+02,  9.200e+01,\n",
              "        1.560e+02,  6.800e+01,  6.200e+01,  2.640e+02,  1.100e+02,\n",
              "        8.300e+01,  1.330e+02,  5.100e+01,  1.480e+02,  5.400e+01,\n",
              "        6.700e+01,  1.060e+02,  1.090e+02,  1.020e+02,  9.000e+01,\n",
              "        2.880e+02,  1.710e+02,  1.310e+02,  8.700e+01,  7.800e+01,\n",
              "        1.510e+02,  5.900e+01,  1.130e+02,  1.180e+02,  1.270e+02,\n",
              "        9.700e+01,  1.350e+02, -2.200e+01,  1.030e+02,  1.110e+02,\n",
              "        9.600e+01,  2.420e+02,  1.050e+02,  7.200e+01,  1.260e+02,\n",
              "        7.300e+01,  1.010e+02,  9.100e+01,  6.300e+01,  1.940e+02,\n",
              "        2.550e+02,  9.800e+01,  8.100e+01,  7.500e+01,  7.400e+01,\n",
              "        1.210e+02,  4.050e+02,  9.900e+01,  3.000e+02,  4.010e+02,\n",
              "        5.020e+02,  1.380e+02,  1.340e+02,  6.600e+01,  2.400e+02,\n",
              "        1.300e+02,  1.150e+02,  1.640e+02,  1.120e+02,  5.010e+02,\n",
              "        2.510e+02, -1.600e+01,  9.300e+01,  1.240e+02,  1.490e+02,\n",
              "        1.320e+02,  1.950e+02,  5.120e+02, -9.000e+00,  5.080e+02,\n",
              "        4.120e+02,  3.130e+02,  1.280e+02,  1.420e+02,  1.630e+02,\n",
              "        1.080e+02,  1.470e+02,  1.670e+02,  8.600e+01,  7.900e+01,\n",
              "        5.000e+02,  2.050e+02,  1.530e+02,  1.000e+03,  2.220e+02,\n",
              "        1.160e+02,  3.250e+02,  2.070e+02,  1.290e+02,  2.310e+02,\n",
              "        1.140e+02,  2.990e+02,  1.450e+02,  1.170e+02,  6.240e+02,\n",
              "        1.870e+02,  1.400e+02,  4.800e+02,  3.430e+02,  5.390e+02,\n",
              "        2.300e+02,  1.790e+02,  9.500e+01,  1.540e+02,  5.330e+02,\n",
              "        1.390e+02,  6.370e+02,  1.460e+02,  6.690e+02,  1.570e+02,\n",
              "        5.040e+02,  1.610e+02,  2.169e+03])"
            ]
          },
          "metadata": {},
          "execution_count": 96
        }
      ],
      "source": [
        "sales_train[\"item_cnt_day\"].unique()"
      ]
    },
    {
      "cell_type": "code",
      "execution_count": null,
      "metadata": {
        "colab": {
          "base_uri": "https://localhost:8080/"
        },
        "id": "-GgSuRJStpzy",
        "outputId": "7bb7920b-2912-46cc-ce9d-798c5f1df739"
      },
      "outputs": [
        {
          "output_type": "stream",
          "name": "stdout",
          "text": [
            "-------------------------------------------\n",
            "Max value in col 'item_cnt_day':  2169.0\n",
            "Min value in col 'item_cnt_day':  -22.0\n",
            "-------------------------------------------\n"
          ]
        }
      ],
      "source": [
        "print(\"-------------------------------------------\")\n",
        "print(\"Max value in col 'item_cnt_day': \", sales_train['item_cnt_day'].max())\n",
        "print(\"Min value in col 'item_cnt_day': \", sales_train['item_cnt_day'].min())\n",
        "print(\"-------------------------------------------\")"
      ]
    },
    {
      "cell_type": "code",
      "source": [
        "len(sales_train[sales_train['item_cnt_day'] < 0])"
      ],
      "metadata": {
        "colab": {
          "base_uri": "https://localhost:8080/"
        },
        "id": "mjDenbZKY5Ob",
        "outputId": "d602c7af-8f26-40b9-a37a-4af162770ed8"
      },
      "execution_count": null,
      "outputs": [
        {
          "output_type": "execute_result",
          "data": {
            "text/plain": [
              "7356"
            ]
          },
          "metadata": {},
          "execution_count": 98
        }
      ]
    },
    {
      "cell_type": "markdown",
      "source": [
        "# **2. Data Preprocessing**"
      ],
      "metadata": {
        "id": "OlOeB8xD6lWX"
      }
    },
    {
      "cell_type": "markdown",
      "source": [
        "## **2.1. Find Outliers**"
      ],
      "metadata": {
        "id": "eCiLWD5j77xE"
      }
    },
    {
      "cell_type": "code",
      "execution_count": null,
      "metadata": {
        "colab": {
          "base_uri": "https://localhost:8080/",
          "height": 306
        },
        "id": "w3RdMEdL8Icb",
        "outputId": "a52831d7-488d-48e5-cd88-4f3c88f538ea"
      },
      "outputs": [
        {
          "output_type": "display_data",
          "data": {
            "text/plain": [
              "<Figure size 1152x432 with 2 Axes>"
            ],
            "image/png": "[encoded data removed]"
          },
          "metadata": {
            "needs_background": "light"
          }
        }
      ],
      "source": [
        "# Find outliers in the columns sales_train.'item_cnt_day',sales_train.'item_price'\n",
        "cols = ['item_cnt_day','item_price']\n",
        "fig, ax = plt.subplots(ncols = len(cols), figsize = (8 * len(cols),6), sharex = True)\n",
        "\n",
        "# wspace : the amount of width reserved for space between subplots, expressed as a fraction of the average axis width\n",
        "fig.subplots_adjust(wspace=0.6)\n",
        "\n",
        "for i in range(len(cols)):\n",
        "  ax[i].boxplot(sales_train[cols[i]])\n",
        "  ax[i].set_xlabel(cols[i])\n",
        "  ax[i].set_ylabel(\"Count\")"
      ]
    },
    {
      "cell_type": "markdown",
      "metadata": {
        "id": "ol0xGL9bWsXP"
      },
      "source": [
        "- item_cnt_day has outlier > 2000\n",
        "- item_price has outlier > 300000"
      ]
    },
    {
      "cell_type": "markdown",
      "source": [
        "## **2.2. Remove observed outliers**"
      ],
      "metadata": {
        "id": "EByy24zH8KAL"
      }
    },
    {
      "cell_type": "code",
      "execution_count": null,
      "metadata": {
        "id": "DZKDRtkOBXhH"
      },
      "outputs": [],
      "source": [
        "# Remove Outliers\n",
        "outlier1 = sales_train[sales_train['item_cnt_day'] > 2000].index[0]\n",
        "outlier2 = sales_train[sales_train['item_price'] > 300000].index[0]\n",
        "sales_train.drop([outlier1,outlier2], axis = 0, inplace = True)\n",
        "\n",
        "# Reset index\n",
        "sales_train.reset_index(inplace=True,drop=True)"
      ]
    },
    {
      "cell_type": "markdown",
      "source": [
        "## **2.3. Find Anomalies**"
      ],
      "metadata": {
        "id": "neMAvJKu8UEE"
      }
    },
    {
      "cell_type": "code",
      "execution_count": null,
      "metadata": {
        "colab": {
          "base_uri": "https://localhost:8080/",
          "height": 306
        },
        "id": "Bf6aIX3xBl7N",
        "outputId": "f8b37b85-1a99-4774-f8d2-6e43bc9c414d"
      },
      "outputs": [
        {
          "output_type": "display_data",
          "data": {
            "text/plain": [
              "<Figure size 1152x432 with 2 Axes>"
            ],
            "image/png": "[encoded data removed]"
          },
          "metadata": {
            "needs_background": "light"
          }
        }
      ],
      "source": [
        "# Find anomalies in the columns sales_train.'item_cnt_day',sales_train.'item_price'\n",
        "cols = ['item_cnt_day','item_price']\n",
        "fig, ax = plt.subplots(ncols = len(cols), figsize = (8 * len(cols),6), sharex = True)\n",
        "fig.subplots_adjust(wspace=0.6)\n",
        "\n",
        "for i in range(len(cols)):\n",
        "  ax[i].plot(sales_train[cols[i]])\n",
        "  ax[i].set_xlabel(cols[i])\n",
        "  ax[i].set_ylabel(\"Count\")"
      ]
    },
    {
      "cell_type": "markdown",
      "source": [
        "- Column 'item_cnt_day' has some negative values which could be items that were 'returned'. Since we will be considering monthly counts, we will leave the negative values in there so that we get a correct count of items sold when we aggregrate by month"
      ],
      "metadata": {
        "id": "EmSvXv4a5KRD"
      }
    },
    {
      "cell_type": "markdown",
      "source": [
        "# **3. Feature engineering**"
      ],
      "metadata": {
        "id": "ucdzMm1z7hnj"
      }
    },
    {
      "cell_type": "code",
      "execution_count": null,
      "metadata": {
        "id": "XxK7NBZYB2OP"
      },
      "outputs": [],
      "source": [
        "# Get maximum number in column 'date_block_num' representing the last month in data\n",
        "sales_train_max_month = sales_train.date_block_num.max()\n",
        "\n",
        "# Add column 'date_block_num' to the test dataset. The values would be sales_train_max_month + 1 representing next month\n",
        "test['date_block_num'] = sales_train_max_month + 1\n",
        "\n",
        "# Create temp table to concat modified sales_train and test datasets\n",
        "sales_temp = pd.concat([sales_train,test])\n",
        "\n",
        "# Create monthly sales data by aggregating on column 'item_cnt_day' and then rename column to 'item_cnt_month'\n",
        "sales_monthly = sales_temp.groupby(by = ['date_block_num','shop_id','item_id'], as_index=False).agg({'item_cnt_day':'sum'})\n",
        "sales_monthly = sales_monthly.rename(columns={'item_cnt_day':'item_cnt_month'})"
      ]
    },
    {
      "cell_type": "code",
      "execution_count": null,
      "metadata": {
        "colab": {
          "base_uri": "https://localhost:8080/"
        },
        "id": "_uKvpo-nCEcB",
        "outputId": "0619e547-4ead-47de-a81f-33cafc8ba0ca"
      },
      "outputs": [
        {
          "output_type": "execute_result",
          "data": {
            "text/plain": [
              "date_block_num        0\n",
              "shop_id               0\n",
              "item_id               0\n",
              "item_cnt_month        0\n",
              "lag_item_cnt_month    0\n",
              "dtype: int64"
            ]
          },
          "metadata": {},
          "execution_count": 103
        }
      ],
      "source": [
        "# Add new lag column 'lag_item_cnt_month' by shifting values from 'item_cnt_month' by 1\n",
        "sales_monthly['lag_item_cnt_month'] = sales_monthly['item_cnt_month'].shift(1)\n",
        "\n",
        "# Remove na values in the lag column\n",
        "sales_monthly.fillna(0, inplace=True)\n",
        "sales_monthly.isna().sum()"
      ]
    },
    {
      "cell_type": "markdown",
      "source": [
        "# **4. Data Preparation**"
      ],
      "metadata": {
        "id": "QT1Z7rZ19W-r"
      }
    },
    {
      "cell_type": "code",
      "execution_count": null,
      "metadata": {
        "id": "ou391KWQCOqL"
      },
      "outputs": [],
      "source": [
        "# The 'date_block_num' must be split as contiguos months of training data and validation data\n",
        "split_ratio = 0.8\n",
        "train_valid_split = np.floor(sales_train_max_month*split_ratio)\n",
        "train_data = sales_monthly[sales_monthly['date_block_num'] <= train_valid_split]\n",
        "valid_data = sales_monthly[(sales_monthly['date_block_num'] > train_valid_split) & (sales_monthly['date_block_num'] < sales_train_max_month+1)]\n",
        "\n",
        "# Test data will be the 'date_block_num' is sales_train_max_month+1\n",
        "test_data = sales_monthly[sales_monthly['date_block_num'] == sales_train_max_month+1]"
      ]
    },
    {
      "cell_type": "code",
      "execution_count": null,
      "metadata": {
        "id": "3nm1fTvDCYRB"
      },
      "outputs": [],
      "source": [
        "# Create X and y variables for train, validation and test sets\n",
        "X_train = train_data.drop('item_cnt_month',axis=1)\n",
        "y_train = train_data['item_cnt_month']\n",
        "\n",
        "X_valid = valid_data.drop('item_cnt_month',axis=1)\n",
        "y_valid = valid_data['item_cnt_month']\n",
        "\n",
        "X_test = test_data.drop('item_cnt_month',axis=1)\n",
        "y_test = test_data['item_cnt_month']"
      ]
    },
    {
      "cell_type": "code",
      "execution_count": null,
      "metadata": {
        "colab": {
          "base_uri": "https://localhost:8080/"
        },
        "id": "Y-QBpSx0I1HM",
        "outputId": "ee04b7f6-5be8-4b8a-c275-24bd61ce80b8"
      },
      "outputs": [
        {
          "output_type": "execute_result",
          "data": {
            "text/plain": [
              "Index(['date_block_num', 'shop_id', 'item_id', 'lag_item_cnt_month'], dtype='object')"
            ]
          },
          "metadata": {},
          "execution_count": 106
        }
      ],
      "source": [
        "X_test.columns"
      ]
    },
    {
      "cell_type": "markdown",
      "source": [
        "# **5. Model Training and Prediction**"
      ],
      "metadata": {
        "id": "OysuXKxG-aav"
      }
    },
    {
      "cell_type": "code",
      "execution_count": null,
      "metadata": {
        "colab": {
          "base_uri": "https://localhost:8080/"
        },
        "id": "_fkCjrazChr_",
        "outputId": "cc76b359-723d-488e-a30f-39f5bfbc54d5"
      },
      "outputs": [
        {
          "output_type": "stream",
          "name": "stdout",
          "text": [
            "Root Mean Square Train Data = 8.117034222606708\n",
            "Root Mean Square Validation Data = 9.860192643190723\n"
          ]
        }
      ],
      "source": [
        "from sklearn.linear_model import LinearRegression\n",
        "from sklearn.metrics import mean_squared_error\n",
        "# Fit linear regression model to training set\n",
        "model = LinearRegression()\n",
        "model.fit(X_train,y_train)\n",
        "\n",
        "# Use model to Predict labels for validation and test sets \n",
        "train_pred =  model.predict(X_train)\n",
        "valid_pred = model.predict(X_valid)\n",
        "test_pred = model.predict(X_test)\n",
        "\n",
        "# Error metrics\n",
        "print(f'Root Mean Square Train Data = {np.sqrt(mean_squared_error(y_train,train_pred))}')\n",
        "print(f'Root Mean Square Validation Data = {np.sqrt(mean_squared_error(y_valid,valid_pred))}')  "
      ]
    },
    {
      "cell_type": "markdown",
      "source": [
        "**Model Evaluation using K-Fold cross-validaiton**"
      ],
      "metadata": {
        "id": "O9TVp20kAusJ"
      }
    },
    {
      "cell_type": "code",
      "source": [
        "from sklearn.model_selection import cross_val_score\n",
        "scores = cross_val_score(model, X_valid, y_valid, scoring='neg_mean_squared_error', cv=5)\n",
        "print(\"Accuracy: %0.2f [%s]\" % (-scores.mean(), model))"
      ],
      "metadata": {
        "colab": {
          "base_uri": "https://localhost:8080/"
        },
        "id": "JdRJETbOAysQ",
        "outputId": "a1314144-10e7-42e7-d011-409ea83365a0"
      },
      "execution_count": null,
      "outputs": [
        {
          "output_type": "stream",
          "name": "stdout",
          "text": [
            "Accuracy: 94.60 [LinearRegression()]\n"
          ]
        }
      ]
    },
    {
      "cell_type": "code",
      "source": [
        "X_test[\"prédicted\"]=model.predict(X_test)"
      ],
      "metadata": {
        "id": "oDYDA4XSjBGN"
      },
      "execution_count": null,
      "outputs": []
    },
    {
      "cell_type": "code",
      "source": [
        "X_test.head()"
      ],
      "metadata": {
        "colab": {
          "base_uri": "https://localhost:8080/",
          "height": 206
        },
        "id": "EiCCUevwifFX",
        "outputId": "35863733-9700-41f2-9fe3-9e31a537f59e"
      },
      "execution_count": null,
      "outputs": [
        {
          "output_type": "execute_result",
          "data": {
            "text/plain": [
              "         date_block_num  shop_id  item_id  lag_item_cnt_month  prédicted\n",
              "1609123              34        2       30                 1.0   2.480006\n",
              "1609124              34        2       31                 0.0   2.382745\n",
              "1609125              34        2       32                 0.0   2.382729\n",
              "1609126              34        2       33                 0.0   2.382713\n",
              "1609127              34        2       38                 0.0   2.382635"
            ],
            "text/html": [
              "\n",
              "  <div id=\"df-7f29a41c-403f-4e87-b8c9-60e530973437\">\n",
              "    <div class=\"colab-df-container\">\n",
              "      <div>\n",
              "<style scoped>\n",
              "    .dataframe tbody tr th:only-of-type {\n",
              "        vertical-align: middle;\n",
              "    }\n",
              "\n",
              "    .dataframe tbody tr th {\n",
              "        vertical-align: top;\n",
              "    }\n",
              "\n",
              "    .dataframe thead th {\n",
              "        text-align: right;\n",
              "    }\n",
              "</style>\n",
              "<table border=\"1\" class=\"dataframe\">\n",
              "  <thead>\n",
              "    <tr style=\"text-align: right;\">\n",
              "      <th></th>\n",
              "      <th>date_block_num</th>\n",
              "      <th>shop_id</th>\n",
              "      <th>item_id</th>\n",
              "      <th>lag_item_cnt_month</th>\n",
              "      <th>prédicted</th>\n",
              "    </tr>\n",
              "  </thead>\n",
              "  <tbody>\n",
              "    <tr>\n",
              "      <th>1609123</th>\n",
              "      <td>34</td>\n",
              "      <td>2</td>\n",
              "      <td>30</td>\n",
              "      <td>1.0</td>\n",
              "      <td>2.480006</td>\n",
              "    </tr>\n",
              "    <tr>\n",
              "      <th>1609124</th>\n",
              "      <td>34</td>\n",
              "      <td>2</td>\n",
              "      <td>31</td>\n",
              "      <td>0.0</td>\n",
              "      <td>2.382745</td>\n",
              "    </tr>\n",
              "    <tr>\n",
              "      <th>1609125</th>\n",
              "      <td>34</td>\n",
              "      <td>2</td>\n",
              "      <td>32</td>\n",
              "      <td>0.0</td>\n",
              "      <td>2.382729</td>\n",
              "    </tr>\n",
              "    <tr>\n",
              "      <th>1609126</th>\n",
              "      <td>34</td>\n",
              "      <td>2</td>\n",
              "      <td>33</td>\n",
              "      <td>0.0</td>\n",
              "      <td>2.382713</td>\n",
              "    </tr>\n",
              "    <tr>\n",
              "      <th>1609127</th>\n",
              "      <td>34</td>\n",
              "      <td>2</td>\n",
              "      <td>38</td>\n",
              "      <td>0.0</td>\n",
              "      <td>2.382635</td>\n",
              "    </tr>\n",
              "  </tbody>\n",
              "</table>\n",
              "</div>\n",
              "      <button class=\"colab-df-convert\" onclick=\"convertToInteractive('df-7f29a41c-403f-4e87-b8c9-60e530973437')\"\n",
              "              title=\"Convert this dataframe to an interactive table.\"\n",
              "              style=\"display:none;\">\n",
              "        \n",
              "  <svg xmlns=\"http://www.w3.org/2000/svg\" height=\"24px\"viewBox=\"0 0 24 24\"\n",
              "       width=\"24px\">\n",
              "    <path d=\"M0 0h24v24H0V0z\" fill=\"none\"/>\n",
              "    <path d=\"M18.56 5.44l.94 2.06.94-2.06 2.06-.94-2.06-.94-.94-2.06-.94 2.06-2.06.94zm-11 1L8.5 8.5l.94-2.06 2.06-.94-2.06-.94L8.5 2.5l-.94 2.06-2.06.94zm10 10l.94 2.06.94-2.06 2.06-.94-2.06-.94-.94-2.06-.94 2.06-2.06.94z\"/><path d=\"M17.41 7.96l-1.37-1.37c-.4-.4-.92-.59-1.43-.59-.52 0-1.04.2-1.43.59L10.3 9.45l-7.72 7.72c-.78.78-.78 2.05 0 2.83L4 21.41c.39.39.9.59 1.41.59.51 0 1.02-.2 1.41-.59l7.78-7.78 2.81-2.81c.8-.78.8-2.07 0-2.86zM5.41 20L4 18.59l7.72-7.72 1.47 1.35L5.41 20z\"/>\n",
              "  </svg>\n",
              "      </button>\n",
              "      \n",
              "  <style>\n",
              "    .colab-df-container {\n",
              "      display:flex;\n",
              "      flex-wrap:wrap;\n",
              "      gap: 12px;\n",
              "    }\n",
              "\n",
              "    .colab-df-convert {\n",
              "      background-color: #E8F0FE;\n",
              "      border: none;\n",
              "      border-radius: 50%;\n",
              "      cursor: pointer;\n",
              "      display: none;\n",
              "      fill: #1967D2;\n",
              "      height: 32px;\n",
              "      padding: 0 0 0 0;\n",
              "      width: 32px;\n",
              "    }\n",
              "\n",
              "    .colab-df-convert:hover {\n",
              "      background-color: #E2EBFA;\n",
              "      box-shadow: 0px 1px 2px rgba(60, 64, 67, 0.3), 0px 1px 3px 1px rgba(60, 64, 67, 0.15);\n",
              "      fill: #174EA6;\n",
              "    }\n",
              "\n",
              "    [theme=dark] .colab-df-convert {\n",
              "      background-color: #3B4455;\n",
              "      fill: #D2E3FC;\n",
              "    }\n",
              "\n",
              "    [theme=dark] .colab-df-convert:hover {\n",
              "      background-color: #434B5C;\n",
              "      box-shadow: 0px 1px 3px 1px rgba(0, 0, 0, 0.15);\n",
              "      filter: drop-shadow(0px 1px 2px rgba(0, 0, 0, 0.3));\n",
              "      fill: #FFFFFF;\n",
              "    }\n",
              "  </style>\n",
              "\n",
              "      <script>\n",
              "        const buttonEl =\n",
              "          document.querySelector('#df-7f29a41c-403f-4e87-b8c9-60e530973437 button.colab-df-convert');\n",
              "        buttonEl.style.display =\n",
              "          google.colab.kernel.accessAllowed ? 'block' : 'none';\n",
              "\n",
              "        async function convertToInteractive(key) {\n",
              "          const element = document.querySelector('#df-7f29a41c-403f-4e87-b8c9-60e530973437');\n",
              "          const dataTable =\n",
              "            await google.colab.kernel.invokeFunction('convertToInteractive',\n",
              "                                                     [key], {});\n",
              "          if (!dataTable) return;\n",
              "\n",
              "          const docLinkHtml = 'Like what you see? Visit the ' +\n",
              "            '<a target=\"_blank\" href=https://colab.research.google.com/notebooks/data_table.ipynb>data table notebook</a>'\n",
              "            + ' to learn more about interactive tables.';\n",
              "          element.innerHTML = '';\n",
              "          dataTable['output_type'] = 'display_data';\n",
              "          await google.colab.output.renderOutput(dataTable, element);\n",
              "          const docLink = document.createElement('div');\n",
              "          docLink.innerHTML = docLinkHtml;\n",
              "          element.appendChild(docLink);\n",
              "        }\n",
              "      </script>\n",
              "    </div>\n",
              "  </div>\n",
              "  "
            ]
          },
          "metadata": {},
          "execution_count": 111
        }
      ]
    }
  ],
  "metadata": {
    "colab": {
      "collapsed_sections": [],
      "name": "Predict Future Sales.ipynb",
      "provenance": [],
      "toc_visible": true,
      "include_colab_link": true
    },
    "kernelspec": {
      "display_name": "Python 3",
      "name": "python3"
    },
    "language_info": {
      "name": "python"
    }
  },
  "nbformat": 4,
  "nbformat_minor": 0
}